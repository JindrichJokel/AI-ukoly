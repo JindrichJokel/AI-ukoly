{
 "cells": [
  {
   "cell_type": "markdown",
   "id": "3688b7f5",
   "metadata": {},
   "source": [
    "# Úvod do DEAP (Distributed Evolutionary Algorithms in Python)\n",
    "\n",
    "instalace v terminálu pomocí \n",
    "\n",
    "conda install -c conda-forge deap "
   ]
  },
  {
   "cell_type": "code",
   "execution_count": 1,
   "id": "61ddc081",
   "metadata": {},
   "outputs": [],
   "source": [
    "import numpy as np\n",
    "\n",
    "import random\n",
    "\n",
    "from deap import base, creator, tools, algorithms \n",
    "\n",
    "\n",
    "#algoritmy obsahuje spoustu algoritmu pro pocitani \n",
    "#dnes budeme pouzivat jeden algoritmus s 6 parametrami"
   ]
  },
  {
   "cell_type": "code",
   "execution_count": 3,
   "id": "01260f34",
   "metadata": {},
   "outputs": [
    {
     "ename": "NameError",
     "evalue": "name 'plt' is not defined",
     "output_type": "error",
     "traceback": [
      "\u001b[1;31m---------------------------------------------------------------------------\u001b[0m",
      "\u001b[1;31mNameError\u001b[0m                                 Traceback (most recent call last)",
      "\u001b[1;32m~\\AppData\\Local\\Temp\\ipykernel_16896\\3142905765.py\u001b[0m in \u001b[0;36m<module>\u001b[1;34m\u001b[0m\n\u001b[0;32m      8\u001b[0m     \u001b[0max\u001b[0m\u001b[1;33m.\u001b[0m\u001b[0mfill_between\u001b[0m\u001b[1;33m(\u001b[0m\u001b[0mx\u001b[0m\u001b[1;33m,\u001b[0m \u001b[0mt\u001b[0m\u001b[1;33m,\u001b[0m \u001b[0mcolor\u001b[0m\u001b[1;33m=\u001b[0m\u001b[1;34m\"sandybrown\"\u001b[0m\u001b[1;33m)\u001b[0m\u001b[1;33m\u001b[0m\u001b[1;33m\u001b[0m\u001b[0m\n\u001b[0;32m      9\u001b[0m     \u001b[0max\u001b[0m\u001b[1;33m.\u001b[0m\u001b[0maxis\u001b[0m\u001b[1;33m(\u001b[0m\u001b[1;34m\"off\"\u001b[0m\u001b[1;33m)\u001b[0m\u001b[1;33m\u001b[0m\u001b[1;33m\u001b[0m\u001b[0m\n\u001b[1;32m---> 10\u001b[1;33m \u001b[0mplotterrain\u001b[0m\u001b[1;33m(\u001b[0m\u001b[0mt\u001b[0m\u001b[1;33m)\u001b[0m\u001b[1;33m\u001b[0m\u001b[1;33m\u001b[0m\u001b[0m\n\u001b[0m",
      "\u001b[1;32m~\\AppData\\Local\\Temp\\ipykernel_16896\\3142905765.py\u001b[0m in \u001b[0;36mplotterrain\u001b[1;34m(t)\u001b[0m\n\u001b[0;32m      2\u001b[0m \u001b[0mt\u001b[0m \u001b[1;33m=\u001b[0m \u001b[1;33m[\u001b[0m\u001b[1;36m1.0\u001b[0m\u001b[1;33m,\u001b[0m\u001b[1;36m0.5\u001b[0m\u001b[1;33m,\u001b[0m\u001b[1;36m0.35\u001b[0m\u001b[1;33m,\u001b[0m\u001b[1;36m0.1\u001b[0m\u001b[1;33m,\u001b[0m\u001b[1;36m0.6\u001b[0m\u001b[1;33m,\u001b[0m\u001b[1;36m0.3\u001b[0m\u001b[1;33m,\u001b[0m\u001b[1;36m0.2\u001b[0m\u001b[1;33m,\u001b[0m\u001b[1;36m0.1\u001b[0m\u001b[1;33m,\u001b[0m\u001b[1;36m0.6\u001b[0m\u001b[1;33m]\u001b[0m\u001b[1;33m\u001b[0m\u001b[1;33m\u001b[0m\u001b[0m\n\u001b[0;32m      3\u001b[0m \u001b[1;32mdef\u001b[0m \u001b[0mplotterrain\u001b[0m\u001b[1;33m(\u001b[0m\u001b[0mt\u001b[0m\u001b[1;33m)\u001b[0m\u001b[1;33m:\u001b[0m\u001b[1;33m\u001b[0m\u001b[1;33m\u001b[0m\u001b[0m\n\u001b[1;32m----> 4\u001b[1;33m     \u001b[0mfig\u001b[0m\u001b[1;33m,\u001b[0m \u001b[0max\u001b[0m \u001b[1;33m=\u001b[0m \u001b[0mplt\u001b[0m\u001b[1;33m.\u001b[0m\u001b[0msubplots\u001b[0m\u001b[1;33m(\u001b[0m\u001b[1;33m)\u001b[0m\u001b[1;33m\u001b[0m\u001b[1;33m\u001b[0m\u001b[0m\n\u001b[0m\u001b[0;32m      5\u001b[0m     \u001b[0mx\u001b[0m \u001b[1;33m=\u001b[0m \u001b[0mrange\u001b[0m\u001b[1;33m(\u001b[0m\u001b[0mlen\u001b[0m\u001b[1;33m(\u001b[0m\u001b[0mt\u001b[0m\u001b[1;33m)\u001b[0m\u001b[1;33m)\u001b[0m\u001b[1;33m\u001b[0m\u001b[1;33m\u001b[0m\u001b[0m\n\u001b[0;32m      6\u001b[0m     \u001b[0msea\u001b[0m \u001b[1;33m=\u001b[0m \u001b[1;33m[\u001b[0m\u001b[1;36m0.5\u001b[0m \u001b[1;32mfor\u001b[0m \u001b[0mi\u001b[0m \u001b[1;32min\u001b[0m \u001b[0mrange\u001b[0m\u001b[1;33m(\u001b[0m\u001b[0mlen\u001b[0m\u001b[1;33m(\u001b[0m\u001b[0mt\u001b[0m\u001b[1;33m)\u001b[0m\u001b[1;33m)\u001b[0m\u001b[1;33m]\u001b[0m\u001b[1;33m\u001b[0m\u001b[1;33m\u001b[0m\u001b[0m\n",
      "\u001b[1;31mNameError\u001b[0m: name 'plt' is not defined"
     ]
    }
   ],
   "source": [
    "# teren je seznam realnych cisel mezi 0 a 1, 0.5 je hladina more\n",
    "t = [1.0,0.5,0.35,0.1,0.6,0.3,0.2,0.1,0.6]\n",
    "def plotterrain(t):\n",
    "    fig, ax = plt.subplots()\n",
    "    x = range(len(t))\n",
    "    sea = [0.5 for i in range(len(t))]\n",
    "    ax.fill_between(x, sea, color=\"turquoise\")\n",
    "    ax.fill_between(x, t, color=\"sandybrown\")\n",
    "    ax.axis(\"off\")\n",
    "plotterrain(t)"
   ]
  },
  {
   "cell_type": "code",
   "execution_count": null,
   "id": "7435cc3e",
   "metadata": {},
   "outputs": [],
   "source": []
  },
  {
   "cell_type": "markdown",
   "id": "b7c6862d",
   "metadata": {},
   "source": [
    "## Vytváření nových typů\n",
    "---"
   ]
  },
  {
   "cell_type": "markdown",
   "id": "3d117fdd",
   "metadata": {},
   "source": [
    "### Fitness\n",
    "params: název, objekt fitness, -1.0 minimalizace / 1.0 maximalizace"
   ]
  },
  {
   "cell_type": "code",
   "execution_count": null,
   "id": "138f24db",
   "metadata": {},
   "outputs": [
    {
     "name": "stderr",
     "output_type": "stream",
     "text": [
      "c:\\Users\\KoplD\\anaconda3\\lib\\site-packages\\deap\\creator.py:138: RuntimeWarning: A class named 'FitnessMax' has already been created and it will be overwritten. Consider deleting previous creation of that class or rename it.\n",
      "  warnings.warn(\"A class named '{0}' has already been created and it \"\n"
     ]
    }
   ],
   "source": [
    "creator.create(\"FitnessMax\", base.Fitness, weights=(1.0,))#Fitness funkce - sada hodnot, kde zkoumame jestli je hodnota platna nebo ne\n",
    "#dulezitost fitness funkce je pomoci váh -1 1"
   ]
  },
  {
   "cell_type": "markdown",
   "id": "24ae1ad0",
   "metadata": {},
   "source": [
    "### Individua\n",
    "params: název, třída datové struktury, fitness dle existující zaregistrované\n",
    "\n",
    "budeme pracovat s listy (jde i numpy pole ale pozor na views!)\n",
    "\n",
    "existuje celá řada typů: permutace, stromy, atd."
   ]
  },
  {
   "cell_type": "code",
   "execution_count": null,
   "id": "d8842e77",
   "metadata": {},
   "outputs": [
    {
     "name": "stderr",
     "output_type": "stream",
     "text": [
      "c:\\Users\\KoplD\\anaconda3\\lib\\site-packages\\deap\\creator.py:138: RuntimeWarning: A class named 'Individual' has already been created and it will be overwritten. Consider deleting previous creation of that class or rename it.\n",
      "  warnings.warn(\"A class named '{0}' has already been created and it \"\n"
     ]
    }
   ],
   "source": [
    "creator.create(\"Individual\", list, fitness=creator.FitnessMax)\n",
    "#Jedinec se jmenuje Individual, druhej parametr muze byt cokoliv array, numpy array a pod, u nas to bude seznam\n",
    "#fitness nam rika, jak budeme merit fitness funkci jmenem fitnessFunkce budeme volat tu funkci fitnes=creator.*\n"
   ]
  },
  {
   "cell_type": "code",
   "execution_count": null,
   "id": "686fc667",
   "metadata": {},
   "outputs": [],
   "source": []
  },
  {
   "cell_type": "code",
   "execution_count": null,
   "id": "64ea366f",
   "metadata": {},
   "outputs": [],
   "source": [
    "IND_SIZE = 10 # zde si naplnim pocet individualu\n",
    "toolbox = base.Toolbox()\n",
    "\n",
    "toolbox.register(\"attr_float\", random.randint, 0, 1)#naplni mi toolbox 0 a 1\n",
    "toolbox.register(\"individual\", tools.initRepeat, creator.Individual,\n",
    "                 toolbox.attr_float, n=IND_SIZE)\n",
    "#toolbox.register(\"individual\", initind, IND_LEN)  # název, funkce, poporade parametry krmici funkci"
   ]
  },
  {
   "cell_type": "code",
   "execution_count": null,
   "id": "fa9c820b",
   "metadata": {},
   "outputs": [
    {
     "name": "stdout",
     "output_type": "stream",
     "text": [
      "[1, 0, 1, 0, 0, 1, 0, 0, 0, 1]\n"
     ]
    },
    {
     "data": {
      "text/plain": [
       "0"
      ]
     },
     "execution_count": 51,
     "metadata": {},
     "output_type": "execute_result"
    }
   ],
   "source": [
    "ind1 = toolbox.individual()\n",
    "print(ind1)\n",
    "ind1[1]"
   ]
  },
  {
   "cell_type": "code",
   "execution_count": null,
   "id": "2e4949f0",
   "metadata": {},
   "outputs": [
    {
     "data": {
      "text/plain": [
       "()"
      ]
     },
     "execution_count": 52,
     "metadata": {},
     "output_type": "execute_result"
    }
   ],
   "source": [
    "ind1.fitness.values\n"
   ]
  },
  {
   "cell_type": "code",
   "execution_count": null,
   "id": "dfb876a5",
   "metadata": {},
   "outputs": [],
   "source": []
  },
  {
   "cell_type": "markdown",
   "id": "c9bf361e",
   "metadata": {},
   "source": [
    "### Populace"
   ]
  },
  {
   "cell_type": "code",
   "execution_count": null,
   "id": "5957077d",
   "metadata": {},
   "outputs": [],
   "source": [
    "toolbox.register(\"population\", tools.initRepeat, list, toolbox.individual) \n",
    "# init repeat opakuje dle parametru za ni, tedy dela list individii dle zakladni inicializace individia\n"
   ]
  },
  {
   "cell_type": "code",
   "execution_count": null,
   "id": "e24fedea",
   "metadata": {},
   "outputs": [
    {
     "name": "stdout",
     "output_type": "stream",
     "text": [
      "[[1, 0, 0, 1, 1, 1, 0, 0, 0, 0], [1, 1, 1, 0, 1, 1, 1, 0, 0, 0], [1, 0, 0, 0, 0, 0, 0, 1, 0, 0], [1, 0, 1, 1, 0, 0, 1, 1, 1, 0], [0, 1, 1, 0, 1, 1, 0, 0, 0, 1], [0, 0, 0, 0, 1, 1, 1, 0, 0, 1], [1, 1, 1, 1, 1, 1, 1, 0, 0, 1], [1, 0, 1, 1, 0, 1, 1, 0, 1, 1], [1, 1, 0, 1, 0, 0, 0, 1, 0, 1], [0, 0, 1, 0, 0, 1, 0, 0, 0, 1]]\n"
     ]
    }
   ],
   "source": [
    "pop = toolbox.population(n=10)\n",
    "print(pop)"
   ]
  },
  {
   "cell_type": "markdown",
   "id": "8c7b30d2",
   "metadata": {},
   "source": [
    "## Fitness\n",
    "---\n",
    "Tuto funkci si musíme napsat sami !!!"
   ]
  },
  {
   "cell_type": "code",
   "execution_count": null,
   "id": "ad32ee6b",
   "metadata": {},
   "outputs": [],
   "source": [
    "def evaluate(individual):\n",
    "    return sum(individual),    # !!!! vracíme n-tici, proto ta čárka"
   ]
  },
  {
   "cell_type": "code",
   "execution_count": null,
   "id": "3de71ee3",
   "metadata": {},
   "outputs": [],
   "source": [
    "toolbox.register(\"evaluate\", evaluate)"
   ]
  },
  {
   "cell_type": "markdown",
   "id": "80981009",
   "metadata": {},
   "source": [
    "## Operátory\n",
    "---\n",
    "\n",
    "sada operátorů lze nalézt v [dokumentaci](https://deap.readthedocs.io/en/master/api/tools.html#module-deap.tools)"
   ]
  },
  {
   "cell_type": "code",
   "execution_count": null,
   "id": "74baac08",
   "metadata": {},
   "outputs": [],
   "source": [
    "toolbox.register(\"mate\", tools.cxOnePoint)\n",
    "toolbox.register(\"mutate\", tools.mutUniformInt, low=0, up=1, indpb=0.05)#pravdepodobnost jestli zmutuji jednotlivy bit\n",
    "toolbox.register(\"select\", tools.selTournament, tournsize=3)"
   ]
  },
  {
   "cell_type": "code",
   "execution_count": null,
   "id": "d0522e20",
   "metadata": {},
   "outputs": [],
   "source": []
  },
  {
   "cell_type": "markdown",
   "id": "b0e065fa",
   "metadata": {},
   "source": [
    "## Jednoduchý algoritmus\n",
    "---"
   ]
  },
  {
   "cell_type": "code",
   "execution_count": null,
   "id": "1b6f4e11",
   "metadata": {},
   "outputs": [
    {
     "name": "stdout",
     "output_type": "stream",
     "text": [
      "gen\tnevals\n",
      "0  \t10    \n",
      "1  \t8     \n",
      "2  \t5     \n",
      "3  \t4     \n",
      "4  \t9     \n",
      "5  \t6     \n",
      "6  \t8     \n",
      "7  \t6     \n",
      "8  \t10    \n",
      "9  \t10    \n",
      "10 \t6     \n",
      "11 \t8     \n",
      "12 \t7     \n",
      "13 \t10    \n",
      "14 \t6     \n",
      "15 \t6     \n",
      "16 \t8     \n",
      "17 \t3     \n",
      "18 \t6     \n",
      "19 \t6     \n",
      "20 \t4     \n",
      "21 \t5     \n",
      "22 \t10    \n",
      "23 \t6     \n",
      "24 \t7     \n",
      "25 \t8     \n",
      "26 \t8     \n",
      "27 \t8     \n",
      "28 \t10    \n",
      "29 \t7     \n",
      "30 \t8     \n",
      "31 \t8     \n",
      "32 \t9     \n",
      "33 \t10    \n",
      "34 \t7     \n",
      "35 \t8     \n",
      "36 \t6     \n",
      "37 \t7     \n",
      "38 \t7     \n",
      "39 \t10    \n",
      "40 \t9     \n",
      "41 \t7     \n",
      "42 \t10    \n",
      "43 \t7     \n",
      "44 \t7     \n",
      "45 \t10    \n",
      "46 \t8     \n",
      "47 \t7     \n",
      "48 \t8     \n",
      "49 \t7     \n",
      "50 \t8     \n"
     ]
    }
   ],
   "source": [
    "# hlavní parametry vystrčené kvůli experimentování\n",
    "\n",
    "NGEN = 50            # počet generací\n",
    "CXPB = 0.7           # pravděpodobnost crossoveru na páru\n",
    "MUTPB = 0.2         # pravděpodobnost mutace jedince\n",
    "\n",
    "finalpop, logbook = algorithms.eaSimple(pop, toolbox, cxpb=CXPB, mutpb=MUTPB, ngen=NGEN)\n"
   ]
  },
  {
   "cell_type": "markdown",
   "id": "7f8f5d12",
   "metadata": {},
   "source": [
    "## Statistika\n",
    "---"
   ]
  },
  {
   "cell_type": "code",
   "execution_count": null,
   "id": "9caf68b2",
   "metadata": {
    "scrolled": true
   },
   "outputs": [
    {
     "name": "stdout",
     "output_type": "stream",
     "text": [
      "gen\tnevals\tmean\tmax\n",
      "0  \t10    \t5.2 \t7  \n",
      "1  \t10    \t6.5 \t8  \n",
      "2  \t6     \t7.9 \t8  \n",
      "3  \t8     \t8   \t9  \n",
      "4  \t5     \t8.4 \t9  \n",
      "5  \t8     \t8.6 \t9  \n",
      "6  \t9     \t9   \t9  \n",
      "7  \t8     \t8.9 \t9  \n",
      "8  \t10    \t9   \t9  \n",
      "9  \t8     \t9   \t9  \n",
      "10 \t10    \t8.9 \t9  \n",
      "11 \t4     \t9   \t9  \n",
      "12 \t8     \t8.9 \t9  \n",
      "13 \t3     \t9   \t9  \n",
      "14 \t5     \t8.9 \t9  \n",
      "15 \t5     \t9   \t9  \n",
      "16 \t8     \t9   \t9  \n",
      "17 \t3     \t8.9 \t9  \n",
      "18 \t10    \t9   \t9  \n",
      "19 \t8     \t9   \t9  \n",
      "20 \t9     \t8.9 \t9  \n",
      "21 \t9     \t9.1 \t10 \n",
      "22 \t4     \t9.2 \t10 \n",
      "23 \t5     \t9.8 \t10 \n",
      "24 \t6     \t10  \t10 \n",
      "25 \t10    \t10  \t10 \n",
      "26 \t3     \t10  \t10 \n",
      "27 \t6     \t10  \t10 \n",
      "28 \t10    \t9.9 \t10 \n",
      "29 \t8     \t9.9 \t10 \n",
      "30 \t8     \t10  \t10 \n",
      "31 \t8     \t10  \t10 \n",
      "32 \t4     \t10  \t10 \n",
      "33 \t7     \t10  \t10 \n",
      "34 \t7     \t9.9 \t10 \n",
      "35 \t4     \t10  \t10 \n",
      "36 \t10    \t9.9 \t10 \n",
      "37 \t9     \t9.9 \t10 \n",
      "38 \t2     \t10  \t10 \n",
      "39 \t10    \t10  \t10 \n",
      "40 \t10    \t10  \t10 \n",
      "41 \t9     \t10  \t10 \n",
      "42 \t9     \t10  \t10 \n",
      "43 \t10    \t9.8 \t10 \n",
      "44 \t6     \t9.9 \t10 \n",
      "45 \t7     \t10  \t10 \n",
      "46 \t7     \t10  \t10 \n",
      "47 \t8     \t10  \t10 \n",
      "48 \t8     \t10  \t10 \n",
      "49 \t7     \t10  \t10 \n",
      "50 \t8     \t10  \t10 \n"
     ]
    }
   ],
   "source": [
    "import numpy as np\n",
    "\n",
    "s = tools.Statistics(key=lambda ind: ind.fitness.values)\n",
    "s.register(\"mean\", np.mean)\n",
    "s.register(\"max\", np.max)\n",
    "\n",
    "\n",
    "hof = tools.HallOfFame(1)  # pamatuje si 1 nejlepšího jedince za historii evoluce (i když zanikne)\n",
    "\n",
    "pop = toolbox.population(n=10)\n",
    "\n",
    "\n",
    "finalpop, logbook = algorithms.eaSimple(pop, toolbox, cxpb=CXPB, mutpb=MUTPB, ngen=NGEN, stats=s, halloffame=hof)"
   ]
  },
  {
   "cell_type": "code",
   "execution_count": null,
   "id": "6a88410c",
   "metadata": {},
   "outputs": [
    {
     "name": "stdout",
     "output_type": "stream",
     "text": [
      "[[1, 1, 1, 1, 1, 1, 1, 1, 1, 1]]\n"
     ]
    }
   ],
   "source": [
    "mean, maximum = logbook.select(\"mean\", \"max\")\n",
    "\n",
    "\n",
    "print(hof)"
   ]
  },
  {
   "cell_type": "markdown",
   "id": "9a56dd8d",
   "metadata": {},
   "source": [
    "## Kreslení statistiky\n",
    "---"
   ]
  },
  {
   "cell_type": "code",
   "execution_count": null,
   "id": "de992307",
   "metadata": {},
   "outputs": [
    {
     "data": {
      "text/plain": [
       "<matplotlib.legend.Legend at 0x2a71cd6e6a0>"
      ]
     },
     "execution_count": 61,
     "metadata": {},
     "output_type": "execute_result"
    },
    {
     "data": {
      "image/png": "[encoded data removed]",
      "text/plain": [
       "<Figure size 640x480 with 1 Axes>"
      ]
     },
     "metadata": {},
     "output_type": "display_data"
    }
   ],
   "source": [
    "import matplotlib.pyplot as plt\n",
    "\n",
    "fig, ax = plt.subplots()\n",
    "\n",
    "ax.plot(range(NGEN+1), mean, label=\"mean\")     # 0.tá generace zvlášť\n",
    "ax.plot(range(NGEN+1), maximum, label=\"max\")\n",
    "\n",
    "ax.legend()"
   ]
  },
  {
   "cell_type": "markdown",
   "id": "53728750",
   "metadata": {},
   "source": [
    "## Aplikace na barvení grafu\n",
    "---"
   ]
  },
  {
   "cell_type": "markdown",
   "id": "ca111384",
   "metadata": {},
   "source": [
    "### Načtení dat"
   ]
  },
  {
   "cell_type": "code",
   "execution_count": null,
   "id": "f67e7f17",
   "metadata": {},
   "outputs": [
    {
     "ename": "FileNotFoundError",
     "evalue": "[Errno 2] No such file or directory: 'DSJC125.1.txt'",
     "output_type": "error",
     "traceback": [
      "\u001b[1;31m---------------------------------------------------------------------------\u001b[0m",
      "\u001b[1;31mFileNotFoundError\u001b[0m                         Traceback (most recent call last)",
      "\u001b[1;32m~\\AppData\\Local\\Temp\\ipykernel_2984\\3825555971.py\u001b[0m in \u001b[0;36m<module>\u001b[1;34m\u001b[0m\n\u001b[0;32m     19\u001b[0m \u001b[1;33m\u001b[0m\u001b[0m\n\u001b[0;32m     20\u001b[0m \u001b[0mGd\u001b[0m \u001b[1;33m=\u001b[0m \u001b[0mnx\u001b[0m\u001b[1;33m.\u001b[0m\u001b[0mGraph\u001b[0m\u001b[1;33m(\u001b[0m\u001b[1;33m)\u001b[0m\u001b[1;33m\u001b[0m\u001b[1;33m\u001b[0m\u001b[0m\n\u001b[1;32m---> 21\u001b[1;33m \u001b[0mGd\u001b[0m \u001b[1;33m=\u001b[0m \u001b[0mreaddimacs\u001b[0m\u001b[1;33m(\u001b[0m\u001b[1;34m'DSJC125.1.txt'\u001b[0m\u001b[1;33m)\u001b[0m\u001b[1;33m\u001b[0m\u001b[1;33m\u001b[0m\u001b[0m\n\u001b[0m",
      "\u001b[1;32m~\\AppData\\Local\\Temp\\ipykernel_2984\\3825555971.py\u001b[0m in \u001b[0;36mreaddimacs\u001b[1;34m(filename)\u001b[0m\n\u001b[0;32m      7\u001b[0m \u001b[1;32mdef\u001b[0m \u001b[0mreaddimacs\u001b[0m\u001b[1;33m(\u001b[0m\u001b[0mfilename\u001b[0m\u001b[1;33m)\u001b[0m\u001b[1;33m:\u001b[0m\u001b[1;33m\u001b[0m\u001b[1;33m\u001b[0m\u001b[0m\n\u001b[0;32m      8\u001b[0m \u001b[1;33m\u001b[0m\u001b[0m\n\u001b[1;32m----> 9\u001b[1;33m     \u001b[0mfile\u001b[0m \u001b[1;33m=\u001b[0m \u001b[0mopen\u001b[0m\u001b[1;33m(\u001b[0m\u001b[0mfilename\u001b[0m\u001b[1;33m,\u001b[0m \u001b[1;34m'r'\u001b[0m\u001b[1;33m)\u001b[0m\u001b[1;33m\u001b[0m\u001b[1;33m\u001b[0m\u001b[0m\n\u001b[0m\u001b[0;32m     10\u001b[0m     \u001b[0mlines\u001b[0m \u001b[1;33m=\u001b[0m \u001b[0mfile\u001b[0m\u001b[1;33m.\u001b[0m\u001b[0mreadlines\u001b[0m\u001b[1;33m(\u001b[0m\u001b[1;33m)\u001b[0m\u001b[1;33m\u001b[0m\u001b[1;33m\u001b[0m\u001b[0m\n\u001b[0;32m     11\u001b[0m \u001b[1;33m\u001b[0m\u001b[0m\n",
      "\u001b[1;31mFileNotFoundError\u001b[0m: [Errno 2] No such file or directory: 'DSJC125.1.txt'"
     ]
    }
   ],
   "source": [
    "import numpy as np\n",
    "import networkx as nx\n",
    "\n",
    "\n",
    "\n",
    "# funkce pro nacitani grafu z Dimacs formatu\n",
    "def readdimacs(filename):\n",
    "\n",
    "    file = open(filename, 'r')\n",
    "    lines = file.readlines()\n",
    "    \n",
    "    Gd = nx.Graph()\n",
    "\n",
    "    for line in lines:\n",
    "        if line[0] == \"e\":\n",
    "            vs = [int(s) for s in line.split() if s.isdigit()]\n",
    "            Gd.add_edge(vs[0]-1, vs[1]-1)   # dimacs cisluje vrcholy od 1\n",
    "    return Gd\n",
    "\n",
    "Gd = nx.Graph()\n",
    "Gd = readdimacs('DSJC125.1.txt') "
   ]
  },
  {
   "cell_type": "markdown",
   "id": "18eefe7f",
   "metadata": {},
   "source": [
    "### Definice GA"
   ]
  },
  {
   "cell_type": "code",
   "execution_count": null,
   "id": "4aba30a1",
   "metadata": {},
   "outputs": [],
   "source": [
    "\n",
    "COLNUM = 10 # počet barev\n",
    "\n",
    "N = Gd.number_of_nodes()\n",
    "\n",
    "creator.create(\"FitnessMax\", base.Fitness, weights=(-1.0,))  # minimalizujeme počet kolizí\n",
    "\n",
    "creator.create(\"Individual\", list, fitness=creator.FitnessMax)\n",
    "\n",
    "\n",
    "toolbox = base.Toolbox()\n",
    "\n",
    "toolbox.register(\"attr_float\", random.randint, 0, COLNUM)\n",
    "toolbox.register(\"individual\", tools.initRepeat, creator.Individual,\n",
    "                 toolbox.attr_float, n=N)\n",
    "\n",
    "\n",
    "toolbox.register(\"population\", tools.initRepeat, list, toolbox.individual) \n",
    "\n",
    "\n",
    "\n",
    "# vrací celkový počet kolizí, zde bude kod terenu\n",
    "def evaluate(individual):\n",
    "    \n",
    "    collisions = 0\n",
    "    \n",
    "    for i in range(N-1):\n",
    "        for j in range(i, N):\n",
    "            if Gd.has_edge(i, j):\n",
    "                if individual[i] == individual[j]:\n",
    "                    collisions += 1\n",
    "    return collisions, # !!!! vracíme n-tici, proto ta čárka\n",
    "   \n",
    "\n",
    "toolbox.register(\"evaluate\", evaluate)\n",
    "\n",
    "\n",
    "toolbox.register(\"mate\", tools.cxOnePoint)\n",
    "toolbox.register(\"mutate\", tools.mutUniformInt, low=0, up=COLNUM, indpb=0.01)\n",
    "toolbox.register(\"select\", tools.selTournament, tournsize=2)\n",
    "\n",
    "\n",
    "\n",
    "NGEN = 150          # počet generací\n",
    "CXPB = 0.5           # pravděpodobnost crossoveru na páru\n",
    "MUTPB = 0.7         # pravděpodobnost mutace\n",
    "\n",
    "\n",
    "\n",
    "s = tools.Statistics(key=lambda ind: ind.fitness.values)\n",
    "s.register(\"mean\", np.mean)\n",
    "s.register(\"min\", np.min)\n",
    "\n",
    "pop = toolbox.population(n=100)\n",
    "\n",
    "\n",
    "finalpop, logbook = algorithms.eaSimple(pop, toolbox, cxpb=CXPB, mutpb=MUTPB, ngen=NGEN, stats=s)"
   ]
  },
  {
   "cell_type": "markdown",
   "id": "cdad642c",
   "metadata": {},
   "source": [
    "### Vykreslení fitness"
   ]
  },
  {
   "cell_type": "code",
   "execution_count": null,
   "id": "1b6a8470",
   "metadata": {},
   "outputs": [],
   "source": [
    "mean, minimum = logbook.select(\"mean\", \"min\")\n",
    "\n",
    "fig, ax = plt.subplots()\n",
    "\n",
    "ax.plot(range(NGEN+1), mean, label=\"mean\")     # 0.tá generace zvlášť\n",
    "ax.plot(range(NGEN+1), minimum, label=\"min\")\n",
    "ax.legend()"
   ]
  }
 ],
 "metadata": {
  "kernelspec": {
   "display_name": "Python 3 (ipykernel)",
   "language": "python",
   "name": "python3"
  },
  "language_info": {
   "codemirror_mode": {
    "name": "ipython",
    "version": 3
   },
   "file_extension": ".py",
   "mimetype": "text/x-python",
   "name": "python",
   "nbconvert_exporter": "python",
   "pygments_lexer": "ipython3",
   "version": "3.9.13"
  }
 },
 "nbformat": 4,
 "nbformat_minor": 5
}
