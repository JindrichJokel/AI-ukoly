{
 "cells": [
  {
   "cell_type": "markdown",
   "id": "d4c5b692-0744-4d34-b023-176ca9c88bd3",
   "metadata": {},
   "source": [
    "Game Of Life (1D)\n",
    "-Jednotlive generace jdou v 2D polu pod sebe\n",
    "Funkce step = \n",
    "Funkce print = prepise 0 a 1 na * a .\n",
    "\n",
    "ziva bunka prezije kdyz je 2 nebo 4\n",
    "bunka se narodi pokud 2 nebo 3"
   ]
  },
  {
   "cell_type": "code",
   "execution_count": 1,
   "id": "55ab876e-0299-4ee4-a823-4879d5517355",
   "metadata": {},
   "outputs": [],
   "source": [
    "# #Zakladni promenne\n",
    "# field = [0,0,1,0,0,0,0,1,1,0,0]\n",
    "# new_row = [0,0,1,0,0,0,0,1,1,0,0]  # vytvorime prazdny seznam pro novy radek\n",
    "# index = 0\n",
    "# numberOfRows = 5\n",
    "# field_length = len(field)\n",
    "# print(field_length)"
   ]
  },
  {
   "cell_type": "code",
   "execution_count": 2,
   "id": "f6e76d73-52d6-4aae-b586-ca0f30575f10",
   "metadata": {
    "tags": []
   },
   "outputs": [
    {
     "name": "stdout",
     "output_type": "stream",
     "text": [
      "  00000 00000 0000000000000 0 0 0 0000 \n",
      "      0     0             0 0 0 0    0 \n",
      " 0000 00000 0000000000000 0 0 0 0000 0 \n",
      "    0     0             0 0 0 0    0 0 \n",
      " 00 00000 0000000000000 0 0 0 0000 0 0 \n",
      "  0     0             0 0 0 0    0 0 0 \n",
      "  00000 0000000000000 0 0 0 0000 0 0 0 \n",
      "      0             0 0 0 0    0 0 0 0 \n",
      " 0000 0000000000000 0 0 0 0000 0 0 0 0 \n",
      "    0             0 0 0 0    0 0 0 0 0 \n",
      " 00 0000000000000 0 0 0 0000 0 0 0 0 0 \n",
      "  0             0 0 0 0    0 0 0 0 0 0 \n",
      "  0000000000000 0 0 0 0000 0 0 0 0 0 0 \n",
      "              0 0 0 0    0 0 0 0 0 0 0 \n",
      " 000000000000 0 0 0 0000 0 0 0 0 0 0 0 \n",
      "            0 0 0 0    0 0 0 0 0 0 0 0 \n",
      " 0000000000 0 0 0 0000 0 0 0 0 0 0 0 0 \n",
      "          0 0 0 0    0 0 0 0 0 0 0 0 0 \n",
      " 00000000 0 0 0 0000 0 0 0 0 0 0 0 0 0 \n",
      "        0 0 0 0    0 0 0 0 0 0 0 0 0 0 \n",
      " 000000 0 0 0 0000 0 0 0 0 0 0 0 0 0 0 \n",
      "      0 0 0 0    0 0 0 0 0 0 0 0 0 0 0 \n",
      " 0000 0 0 0 0000 0 0 0 0 0 0 0 0 0 0 0 \n",
      "    0 0 0 0    0 0 0 0 0 0 0 0 0 0 0 0 \n",
      " 00 0 0 0 0000 0 0 0 0 0 0 0 0 0 0 0 0 \n",
      "  0 0 0 0    0 0 0 0 0 0 0 0 0 0 0 0 0 \n",
      "  0 0 0 0000 0 0 0 0 0 0 0 0 0 0 0 0 0 \n",
      "  0 0 0    0 0 0 0 0 0 0 0 0 0 0 0 0 0 \n",
      "  0 0 0000 0 0 0 0 0 0 0 0 0 0 0 0 0 0 \n",
      "  0 0    0 0 0 0 0 0 0 0 0 0 0 0 0 0 0 \n",
      "  0 0000 0 0 0 0 0 0 0 0 0 0 0 0 0 0 0 \n",
      "  0    0 0 0 0 0 0 0 0 0 0 0 0 0 0 0 0 \n",
      "  0000 0 0 0 0 0 0 0 0 0 0 0 0 0 0 0 0 \n",
      "     0 0 0 0 0 0 0 0 0 0 0 0 0 0 0 0 0 \n",
      " 000 0 0 0 0 0 0 0 0 0 0 0 0 0 0 0 0 0 \n",
      "   0 0 0 0 0 0 0 0 0 0 0 0 0 0 0 0 0 0 \n",
      " 0 0 0 0 0 0 0 0 0 0 0 0 0 0 0 0 0 0 0 \n",
      " 0 0 0 0 0 0 0 0 0 0 0 0 0 0 0 0 0 0 0 \n",
      " 0 0 0 0 0 0 0 0 0 0 0 0 0 0 0 0 0 0 0 \n"
     ]
    }
   ],
   "source": [
    "#Zakladni promenne\n",
    "field = [0,0,1,0,0,0,0,1,1,0,0,1,1,1,1,0,0,0,0,0,0,0,0,0,1,1,1,1,1,0,1,0,1,0,1,0,0,0,1]\n",
    "new_row =  [0,0,1,0,0,0,0,1,1,0,0,1,1,1,1,0,0,0,0,0,0,0,0,0,1,1,1,1,1,0,1,0,1,0,1,0,0,0,1]\n",
    "index = 0\n",
    "numberOfRows = 5\n",
    "field_length = len(field)\n",
    "# print(field_length)\n",
    "\n",
    "#def method():\n",
    "    #later\n",
    "\n",
    "def step(row):\n",
    "    for i in range(len(row)):\n",
    "        if i == 0 or i == field_length - 1:\n",
    "            new_row[i] = 0            \n",
    "        else:\n",
    "            if row[i + 1] == 1:\n",
    "                new_row[i] = 0 \n",
    "            elif row[index - 1] == 0:\n",
    "                new_row[i] = 1\n",
    "    return new_row\n",
    "step(field)\n",
    "\n",
    "\n",
    "\n",
    "def printArray():\n",
    "    for i in range(39):\n",
    "        newArray = step(new_row)\n",
    "        # print(newArray)\n",
    "        output = \"\"\n",
    "        for j in range(len(new_row)):\n",
    "            if newArray[j] == 1:\n",
    "                output += \"0\"\n",
    "            else:\n",
    "                output += \" \"\n",
    "        print(output)\n",
    "    \n",
    "printArray()\n",
    "        \n",
    "        \n",
    "        "
   ]
  },
  {
   "cell_type": "code",
   "execution_count": null,
   "id": "42f934f9-8e60-4ea3-9998-7cde92dd5fb9",
   "metadata": {},
   "outputs": [],
   "source": []
  },
  {
   "cell_type": "code",
   "execution_count": null,
   "id": "338f3fdc-7b09-4948-848e-2786190445d0",
   "metadata": {},
   "outputs": [],
   "source": []
  }
 ],
 "metadata": {
  "kernelspec": {
   "display_name": "Python 3 (ipykernel)",
   "language": "python",
   "name": "python3"
  },
  "language_info": {
   "codemirror_mode": {
    "name": "ipython",
    "version": 3
   },
   "file_extension": ".py",
   "mimetype": "text/x-python",
   "name": "python",
   "nbconvert_exporter": "python",
   "pygments_lexer": "ipython3",
   "version": "3.9.13"
  }
 },
 "nbformat": 4,
 "nbformat_minor": 5
}
