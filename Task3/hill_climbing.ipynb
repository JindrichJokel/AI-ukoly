{
 "cells": [
  {
   "cell_type": "code",
   "execution_count": null,
   "metadata": {},
   "outputs": [],
   "source": [
    "import networkx as nx\n",
    "import matplotlib.pyplot as plt\n",
    "import matplotlib\n",
    "import math\n",
    "import numpy as np\n",
    "import random as rnd\n",
    "\n",
    "colorNumber = 5\n",
    "steps = 100000\n",
    "loopRestart = 500\n",
    "rng = np.random.default_rng(12345)# seed\n",
    "isSolved = False"
   ]
  },
  {
   "attachments": {},
   "cell_type": "markdown",
   "id": "6a110d6a",
   "metadata": {},
   "source": [
    "## Vygenerovani grafu do promenne G pomoci seedu nahody "
   ]
  },
  {
   "cell_type": "code",
   "execution_count": null,
   "id": "7926b856",
   "metadata": {},
   "outputs": [],
   "source": [
    "def read_dimacs(filename):\n",
    "    file = open(filename, 'r')\n",
    "    lines = file.readlines()\n",
    "    Gd = nx.Graph()\n",
    "    for line in lines:\n",
    "        if line[0] == \"e\":\n",
    "            vs = [int(s) for s in line.split() if s.isdigit()]\n",
    "            Gd.add_edge(vs[0]-1, vs[1]-1)\n",
    "    return Gd\n",
    "\n",
    "G = read_dimacs(\"DSJC125.1\")\n",
    "\n",
    "colorGraph = []\n",
    "nodesCount = G.number_of_nodes()"
   ]
  },
  {
   "attachments": {},
   "cell_type": "markdown",
   "id": "b7f8ff37",
   "metadata": {},
   "source": [
    "## Nahodne vygenerovani barvy"
   ]
  },
  {
   "cell_type": "code",
   "execution_count": null,
   "id": "afb3e3c9",
   "metadata": {},
   "outputs": [],
   "source": [
    "def randomColor(colorGraph):\n",
    "    colorGraph = []\n",
    "    for vrchol in range(nodesCount):\n",
    "        colorNodes = rnd.randrange(0, colorNumber)\n",
    "        colorGraph.append(colorNodes)\n",
    "    return colorGraph\n",
    "colorGraph = randomColor(colorGraph)"
   ]
  },
  {
   "attachments": {},
   "cell_type": "markdown",
   "id": "20ddae9a",
   "metadata": {},
   "source": [
    "## Bere na vstupu pole barev vrcholu poporade, cislum priradi nahodne barvy a vykresli graf"
   ]
  },
  {
   "cell_type": "code",
   "execution_count": null,
   "id": "fcf84874",
   "metadata": {},
   "outputs": [],
   "source": [
    "def plot(G, cols):\n",
    "    k = np.max(cols)\n",
    "    symbols = ['0', '1', '2', '3', '4', '5', '6', '7', '8', '9', 'A', 'B', 'C', 'D', 'E', 'F']\n",
    "    colmap = [\"#\"+''.join(rng.choice(symbols, 6)) for i in range(k+1)]\n",
    "    colors = [colmap[c] for c in cols]\n",
    "    nx.draw(G, node_color=colors, with_labels=True)"
   ]
  },
  {
   "attachments": {},
   "cell_type": "markdown",
   "id": "c958142b",
   "metadata": {},
   "source": [
    "## Testuje, jestli je konfigurace resenim"
   ]
  },
  {
   "cell_type": "code",
   "execution_count": null,
   "id": "39bb352d",
   "metadata": {},
   "outputs": [],
   "source": [
    "def isColoring(graph, colors):\n",
    "    result = True\n",
    "    for nodeIndex, nameNodes in enumerate(graph):\n",
    "        colorNodes = colors[nodeIndex]\n",
    "        for numberOfNeighbor in G.neighbors(nameNodes):\n",
    "            colorOfNeighbor = colors[numberOfNeighbor]\n",
    "            if (colorNodes == colorOfNeighbor):\n",
    "                result = False\n",
    "    return result"
   ]
  },
  {
   "attachments": {},
   "cell_type": "markdown",
   "id": "07824b10",
   "metadata": {},
   "source": [
    "## Vrati pocet kolizi v dane konfiguraci"
   ]
  },
  {
   "cell_type": "code",
   "execution_count": null,
   "id": "7bd01869",
   "metadata": {},
   "outputs": [],
   "source": [
    "def collisions(graph, colors):\n",
    "    collisions = 0\n",
    "    edges = graph.edges()\n",
    "    for edge in edges:\n",
    "        n1, n2 = edge\n",
    "        if colors[n1] == colors[n2]:\n",
    "            collisions += 1\n",
    "    return collisions"
   ]
  },
  {
   "attachments": {},
   "cell_type": "markdown",
   "id": "a04d24af",
   "metadata": {},
   "source": [
    "## Vygeneruje vsechny moznosti zmen v ramci zmeny jedne barvy"
   ]
  },
  {
   "cell_type": "code",
   "execution_count": null,
   "id": "28964716",
   "metadata": {},
   "outputs": [],
   "source": [
    "\n",
    "def allOptionsOfColors(fieldOfColor):\n",
    "    newFieldOfColors = []\n",
    "    colorTemplate = set(fieldOfColor)\n",
    "    for colorIndex, nameColor in enumerate(fieldOfColor):\n",
    "        for uniqueColor in colorTemplate:\n",
    "            temp = fieldOfColor.copy()\n",
    "            if uniqueColor != nameColor: \n",
    "                temp[colorIndex] = uniqueColor\n",
    "                newFieldOfColors.append(temp)\n",
    "    return newFieldOfColors"
   ]
  },
  {
   "cell_type": "markdown",
   "id": "5f2a749a",
   "metadata": {},
   "source": [
    "## Vyhodnoceni vsech moznosti pole (k na nodes)"
   ]
  },
  {
   "cell_type": "code",
   "execution_count": null,
   "id": "ed7850fd",
   "metadata": {},
   "outputs": [],
   "source": [
    "def allOptions(fieldOfOptions):\n",
    "    global isSolved\n",
    "    lowestConflict = []\n",
    "    for option in fieldOfOptions:\n",
    "        numberOfCollisionOption = collisions(G, option)\n",
    "        if numberOfCollisionOption == 0:\n",
    "            isSolved = True\n",
    "        lowestConflict.append(numberOfCollisionOption)\n",
    "    return lowestConflict "
   ]
  },
  {
   "attachments": {},
   "cell_type": "markdown",
   "id": "16949192",
   "metadata": {},
   "source": [
    "## Vystupem je jedna z nejlepsich moznosti"
   ]
  },
  {
   "cell_type": "code",
   "execution_count": null,
   "id": "8c01c1c8",
   "metadata": {},
   "outputs": [],
   "source": [
    "def colorChanging(newOptions,completedOptions):\n",
    "    sortedIndex = np.argsort(completedOptions) #vrati indexy serazeni\n",
    "    #zjisti pocet moznosti stejne validity\n",
    "    kCount = 0\n",
    "    for k in completedOptions:\n",
    "        if k == completedOptions[sortedIndex[0]]:\n",
    "            kCount += 1\n",
    "    if kCount > 1:\n",
    "        #Vyber z moznosti, ktere jsou nejlepsi stejne\n",
    "        nahodnyIndex = rnd.randrange(0, kCount)#Od nuly po n\n",
    "        sortedIndex[0] = sortedIndex[nahodnyIndex]\n",
    "    return newOptions[sortedIndex[0]]"
   ]
  },
  {
   "attachments": {},
   "cell_type": "markdown",
   "id": "6587c8a1",
   "metadata": {},
   "source": [
    "## Hil Climbing Funkce 💥"
   ]
  },
  {
   "cell_type": "code",
   "execution_count": null,
   "id": "b801bbca",
   "metadata": {},
   "outputs": [],
   "source": [
    "def color(G, colors, steps):\n",
    "    global isSolved\n",
    "    collisions = 0\n",
    "    low = 999999 #def nejmensi pocet konfliktu na maxu\n",
    "    minCount = 0 #Kolikrat jsem mel nejmensi pocet konfliktu\n",
    "    tryed = 1 #Kolikrat jsem zkusil opakovat cely proces\n",
    "\n",
    "    #Test na okamzite reseni == instantni reseni?\n",
    "    if isColoring(G,colors):\n",
    "        isSolved = True\n",
    "    else:\n",
    "    #pokud je nalezene reseni nebo dojde pocet kroku\n",
    "        while (not isSolved and collisions < steps):\n",
    "            if minCount >= loopRestart: #loopRestart po kolika stepech zresetuji cely graf pokud count bude n x stejna jako resetPromenna(200) tak zresetuji\n",
    "                colors = randomColor(colors).copy() #vygeneruji novy pool barev a zresetuji promenne\n",
    "                tryed += 1\n",
    "                minCount = 0\n",
    "                low = 999999              \n",
    "            #Vygeneruje vsechny moznosti barev\n",
    "            newFieldOfColors = allOptionsOfColors(colors)\n",
    "            #Vyhodnoti colors list indexu nejmensich konfliktu\n",
    "            completedOptions = allOptions(newFieldOfColors)  \n",
    "            #Vystupem je jeden graf s nejmene konfliktami v \"colors\"\n",
    "            colors = colorChanging(newFieldOfColors,completedOptions)\n",
    "            #Zlepsil se pocet konfliktu?\n",
    "            if completedOptions[0] < low:\n",
    "                #low = nejmensi pocet konfliktu\n",
    "                low = completedOptions[0]\n",
    "                #reset low\n",
    "                minCount = 0 #low collisions = pocet opakovani nejmensiho poctu konfliktu za sebou 8 8 = 1\n",
    "            else:\n",
    "                #Pokud se nezlepsuji, tak pricitam a zustavam na stejnem miste\n",
    "                minCount += 1\n",
    "            #Loguji pocet kroku s nejnizsim konfliktem a vidim jestli se zlepsuji\n",
    "            print('Step: ' + str(collisions + 1) + ' Collisions: ' + str(low))\n",
    "            collisions += 1 #Celkovy pocet vsech kroku\n",
    "\n",
    "        if isSolved:\n",
    "            print('Answer is completed on ' + str(tryed) + \" try with \" + str(colorNumber) + \" colors.\")\n",
    "        else:\n",
    "            print('Maybe next time')\n",
    "\n",
    "        if collisions == 0:\n",
    "            print('Graph was colored right before my operation')\n",
    "        else:\n",
    "            print('Final step is: ' + str(collisions))\n",
    "        \n",
    "    return colors, isSolved"
   ]
  },
  {
   "cell_type": "code",
   "execution_count": null,
   "id": "149f69ac",
   "metadata": {},
   "outputs": [],
   "source": [
    "vysledek = color(G, colorGraph, steps)\n",
    "plot(G, vysledek[0])#Vrati se mi pole ktere je true nebo false? vysledek[0] = barvy v returnu"
   ]
  }
 ],
 "metadata": {
  "kernelspec": {
   "display_name": "Python 3.9.13 ('base')",
   "language": "python",
   "name": "python3"
  },
  "language_info": {
   "codemirror_mode": {
    "name": "ipython",
    "version": 3
   },
   "file_extension": ".py",
   "mimetype": "text/x-python",
   "name": "python",
   "nbconvert_exporter": "python",
   "pygments_lexer": "ipython3",
   "version": "3.9.13"
  },
  "vscode": {
   "interpreter": {
    "hash": "e147fa43263fd5387379cdaba8f1ba9ce9580f3e43ddfddf5a9c189ace362bfb"
   }
  }
 },
 "nbformat": 4,
 "nbformat_minor": 5
}
