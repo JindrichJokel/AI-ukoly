{
 "cells": [
  {
   "cell_type": "markdown",
   "id": "5af898a6",
   "metadata": {},
   "source": [
    "# Iterované vězňovo dilema"
   ]
  },
  {
   "cell_type": "code",
   "execution_count": 350,
   "id": "d1423680",
   "metadata": {},
   "outputs": [],
   "source": [
    "import random\n",
    "\n",
    "import numpy as np\n",
    "\n",
    "from deap import base, creator, tools, algorithms\n",
    "\n",
    "import matplotlib.pyplot as plt"
   ]
  },
  {
   "cell_type": "code",
   "execution_count": 351,
   "id": "713cb541",
   "metadata": {},
   "outputs": [],
   "source": [
    "def betray_David_Kopl(my_history, other_history):\n",
    "#Jestli me zradil minule, zradim ho ted\n",
    "#Pokud me nezradil, take ho nezradim\n",
    "#Sem tam ho proste zradim i kdyz me nezradil napriklad s sanci 10%\n",
    "    if len(my_history) == 0:\n",
    "        return 0\n",
    "\n",
    "    # else:\n",
    "        # if(my_history )\n",
    "        # print(my_history)\n",
    "        # p = random.random()\n",
    "        # if p < 0.5:\n",
    "        #     return 1\n",
    "        # return 0"
   ]
  },
  {
   "cell_type": "markdown",
   "id": "dda646cc",
   "metadata": {},
   "source": [
    "## Strategie odpovědí\n",
    "obecně jde o funkci tvaru *zrada(moje_historie_tahu, druheho_historie_tahu)* pro seznam minulých rozhodnutí vrátí, zda protihráče v následujícím tahu zradíme (1) nebo ne (0)\n",
    "\n",
    "- první parametr je seznam historie našich tahů\n",
    "- druhý parametr je seznam historie tahů protihráče\n"
   ]
  },
  {
   "cell_type": "code",
   "execution_count": 352,
   "id": "4566517c",
   "metadata": {},
   "outputs": [],
   "source": [
    "\n",
    "# vždy kooperuje\n",
    "def always_cooperate(myhistory, otherhistory):\n",
    "    return 0\n",
    "\n",
    "\n",
    "# náhodná odpověď\n",
    "def random_answer(myhistory, otherhistory):\n",
    "    p = random.random()\n",
    "    if p < 0.5:\n",
    "        return 1\n",
    "    \n",
    "    return 0\n",
    "    \n",
    "    \n",
    "\n"
   ]
  },
  {
   "cell_type": "markdown",
   "id": "48d455ca",
   "metadata": {},
   "source": [
    "## Pomocné funkce"
   ]
  },
  {
   "cell_type": "code",
   "execution_count": 353,
   "id": "5c4a4918",
   "metadata": {},
   "outputs": [],
   "source": [
    "def rozdej_skore(tah1, tah2):\n",
    "    # 1 = zradi, 0 = nezradi\n",
    "    \n",
    "    skores = (0, 0)\n",
    "    \n",
    "    if (tah1 == 1) and (tah2 == 1):\n",
    "        skores = (2, 2)\n",
    "\n",
    "    if (tah1 == 1) and (tah2 == 0):\n",
    "        skores = (0, 3)    \n",
    "    \n",
    "    if (tah1 == 0) and (tah2 == 1):\n",
    "        skores = (3, 0)\n",
    "        \n",
    "    if (tah1 == 0) and (tah2 == 0):\n",
    "        skores = (1, 1)\n",
    "                \n",
    "    return skores    \n",
    "        \n",
    "        \n",
    "def play(f1, f2, stepsnum):\n",
    "    \n",
    "    skore1 = 0\n",
    "    skore2 = 0\n",
    "    \n",
    "    historie1 = []\n",
    "    historie2 = []\n",
    "    \n",
    "    for i in range(stepsnum):\n",
    "        tah1 = f1(historie1, historie2)\n",
    "        tah2 = f2(historie2, historie1)\n",
    "\n",
    "        s1, s2 = rozdej_skore(tah1, tah2)\n",
    "        skore1 += s1\n",
    "        skore2 += s2\n",
    "        \n",
    "        historie1.append(tah1)\n",
    "        historie2.append(tah2)\n",
    "       \n",
    "    return skore1, skore2\n",
    "\n"
   ]
  },
  {
   "cell_type": "code",
   "execution_count": null,
   "id": "23cef0d9",
   "metadata": {},
   "outputs": [],
   "source": []
  },
  {
   "cell_type": "markdown",
   "id": "45d3cdc5",
   "metadata": {},
   "source": [
    "## Evoluce strategie"
   ]
  },
  {
   "cell_type": "code",
   "execution_count": 358,
   "id": "08634c6c",
   "metadata": {
    "scrolled": true
   },
   "outputs": [
    {
     "name": "stderr",
     "output_type": "stream",
     "text": [
      "c:\\Users\\KoplD\\anaconda3\\lib\\site-packages\\deap\\creator.py:138: RuntimeWarning: A class named 'FitnessMax' has already been created and it will be overwritten. Consider deleting previous creation of that class or rename it.\n",
      "  warnings.warn(\"A class named '{0}' has already been created and it \"\n",
      "c:\\Users\\KoplD\\anaconda3\\lib\\site-packages\\deap\\creator.py:138: RuntimeWarning: A class named 'Individual' has already been created and it will be overwritten. Consider deleting previous creation of that class or rename it.\n",
      "  warnings.warn(\"A class named '{0}' has already been created and it \"\n"
     ]
    },
    {
     "ename": "NameError",
     "evalue": "name 'my_history' is not defined",
     "output_type": "error",
     "traceback": [
      "\u001b[1;31m---------------------------------------------------------------------------\u001b[0m",
      "\u001b[1;31mNameError\u001b[0m                                 Traceback (most recent call last)",
      "\u001b[1;32m~\\AppData\\Local\\Temp\\ipykernel_23316\\222662368.py\u001b[0m in \u001b[0;36m<module>\u001b[1;34m\u001b[0m\n\u001b[0;32m     56\u001b[0m \u001b[1;33m\u001b[0m\u001b[0m\n\u001b[0;32m     57\u001b[0m     \u001b[1;32mreturn\u001b[0m\u001b[1;33m(\u001b[0m\u001b[0mhof\u001b[0m\u001b[1;33m[\u001b[0m\u001b[1;36m0\u001b[0m\u001b[1;33m]\u001b[0m\u001b[1;33m)\u001b[0m\u001b[1;33m\u001b[0m\u001b[1;33m\u001b[0m\u001b[0m\n\u001b[1;32m---> 58\u001b[1;33m \u001b[0mfitness\u001b[0m\u001b[1;33m(\u001b[0m\u001b[1;33m)\u001b[0m\u001b[1;33m\u001b[0m\u001b[1;33m\u001b[0m\u001b[0m\n\u001b[0m",
      "\u001b[1;32m~\\AppData\\Local\\Temp\\ipykernel_23316\\222662368.py\u001b[0m in \u001b[0;36mfitness\u001b[1;34m()\u001b[0m\n\u001b[0;32m     52\u001b[0m \u001b[1;33m\u001b[0m\u001b[0m\n\u001b[0;32m     53\u001b[0m \u001b[1;33m\u001b[0m\u001b[0m\n\u001b[1;32m---> 54\u001b[1;33m     \u001b[0mfinalpop\u001b[0m\u001b[1;33m,\u001b[0m \u001b[0mlogbook\u001b[0m \u001b[1;33m=\u001b[0m \u001b[0malgorithms\u001b[0m\u001b[1;33m.\u001b[0m\u001b[0meaSimple\u001b[0m\u001b[1;33m(\u001b[0m\u001b[0mpop\u001b[0m\u001b[1;33m,\u001b[0m \u001b[0mtoolbox\u001b[0m\u001b[1;33m,\u001b[0m \u001b[0mcxpb\u001b[0m\u001b[1;33m=\u001b[0m\u001b[0mCXPB\u001b[0m\u001b[1;33m,\u001b[0m \u001b[0mmutpb\u001b[0m\u001b[1;33m=\u001b[0m\u001b[0mMUTPB\u001b[0m\u001b[1;33m,\u001b[0m \u001b[0mngen\u001b[0m\u001b[1;33m=\u001b[0m\u001b[0mNGEN\u001b[0m\u001b[1;33m,\u001b[0m \u001b[0mstats\u001b[0m\u001b[1;33m=\u001b[0m\u001b[0ms\u001b[0m\u001b[1;33m,\u001b[0m \u001b[0mhalloffame\u001b[0m\u001b[1;33m=\u001b[0m\u001b[0mhof\u001b[0m\u001b[1;33m)\u001b[0m\u001b[1;33m\u001b[0m\u001b[1;33m\u001b[0m\u001b[0m\n\u001b[0m\u001b[0;32m     55\u001b[0m \u001b[1;33m\u001b[0m\u001b[0m\n\u001b[0;32m     56\u001b[0m \u001b[1;33m\u001b[0m\u001b[0m\n",
      "\u001b[1;32mc:\\Users\\KoplD\\anaconda3\\lib\\site-packages\\deap\\algorithms.py\u001b[0m in \u001b[0;36meaSimple\u001b[1;34m(population, toolbox, cxpb, mutpb, ngen, stats, halloffame, verbose)\u001b[0m\n\u001b[0;32m    149\u001b[0m     \u001b[0minvalid_ind\u001b[0m \u001b[1;33m=\u001b[0m \u001b[1;33m[\u001b[0m\u001b[0mind\u001b[0m \u001b[1;32mfor\u001b[0m \u001b[0mind\u001b[0m \u001b[1;32min\u001b[0m \u001b[0mpopulation\u001b[0m \u001b[1;32mif\u001b[0m \u001b[1;32mnot\u001b[0m \u001b[0mind\u001b[0m\u001b[1;33m.\u001b[0m\u001b[0mfitness\u001b[0m\u001b[1;33m.\u001b[0m\u001b[0mvalid\u001b[0m\u001b[1;33m]\u001b[0m\u001b[1;33m\u001b[0m\u001b[1;33m\u001b[0m\u001b[0m\n\u001b[0;32m    150\u001b[0m     \u001b[0mfitnesses\u001b[0m \u001b[1;33m=\u001b[0m \u001b[0mtoolbox\u001b[0m\u001b[1;33m.\u001b[0m\u001b[0mmap\u001b[0m\u001b[1;33m(\u001b[0m\u001b[0mtoolbox\u001b[0m\u001b[1;33m.\u001b[0m\u001b[0mevaluate\u001b[0m\u001b[1;33m,\u001b[0m \u001b[0minvalid_ind\u001b[0m\u001b[1;33m)\u001b[0m\u001b[1;33m\u001b[0m\u001b[1;33m\u001b[0m\u001b[0m\n\u001b[1;32m--> 151\u001b[1;33m     \u001b[1;32mfor\u001b[0m \u001b[0mind\u001b[0m\u001b[1;33m,\u001b[0m \u001b[0mfit\u001b[0m \u001b[1;32min\u001b[0m \u001b[0mzip\u001b[0m\u001b[1;33m(\u001b[0m\u001b[0minvalid_ind\u001b[0m\u001b[1;33m,\u001b[0m \u001b[0mfitnesses\u001b[0m\u001b[1;33m)\u001b[0m\u001b[1;33m:\u001b[0m\u001b[1;33m\u001b[0m\u001b[1;33m\u001b[0m\u001b[0m\n\u001b[0m\u001b[0;32m    152\u001b[0m         \u001b[0mind\u001b[0m\u001b[1;33m.\u001b[0m\u001b[0mfitness\u001b[0m\u001b[1;33m.\u001b[0m\u001b[0mvalues\u001b[0m \u001b[1;33m=\u001b[0m \u001b[0mfit\u001b[0m\u001b[1;33m\u001b[0m\u001b[1;33m\u001b[0m\u001b[0m\n\u001b[0;32m    153\u001b[0m \u001b[1;33m\u001b[0m\u001b[0m\n",
      "\u001b[1;32m~\\AppData\\Local\\Temp\\ipykernel_23316\\222662368.py\u001b[0m in \u001b[0;36mevaluate\u001b[1;34m(individual, population)\u001b[0m\n\u001b[0;32m     11\u001b[0m \u001b[1;31m#Ve funkci evaluate vezmu individuala a necham ho hrat se vsema ostatnima\u001b[0m\u001b[1;33m\u001b[0m\u001b[1;33m\u001b[0m\u001b[0m\n\u001b[0;32m     12\u001b[0m \u001b[1;31m#Jeste funkce ktera prelozi 0 a 1 do funnkce play\u001b[0m\u001b[1;33m\u001b[0m\u001b[1;33m\u001b[0m\u001b[0m\n\u001b[1;32m---> 13\u001b[1;33m     \u001b[1;32mif\u001b[0m \u001b[0mlen\u001b[0m\u001b[1;33m(\u001b[0m\u001b[0mmy_history\u001b[0m\u001b[1;33m)\u001b[0m \u001b[1;33m==\u001b[0m \u001b[1;36m0\u001b[0m\u001b[1;33m:\u001b[0m\u001b[1;33m\u001b[0m\u001b[1;33m\u001b[0m\u001b[0m\n\u001b[0m\u001b[0;32m     14\u001b[0m         \u001b[1;32mreturn\u001b[0m \u001b[1;36m0\u001b[0m\u001b[1;33m\u001b[0m\u001b[1;33m\u001b[0m\u001b[0m\n\u001b[0;32m     15\u001b[0m     \u001b[1;32mif\u001b[0m\u001b[1;33m(\u001b[0m\u001b[0mmy_history\u001b[0m \u001b[1;33m==\u001b[0m \u001b[1;36m0\u001b[0m \u001b[1;32mand\u001b[0m \u001b[0mother_history\u001b[0m \u001b[1;33m==\u001b[0m \u001b[1;36m0\u001b[0m\u001b[1;33m)\u001b[0m\u001b[1;33m:\u001b[0m\u001b[1;33m\u001b[0m\u001b[1;33m\u001b[0m\u001b[0m\n",
      "\u001b[1;31mNameError\u001b[0m: name 'my_history' is not defined"
     ]
    }
   ],
   "source": [
    "IND_SIZE = 22 # zde si naplnim pocet individualu\n",
    "POP_SIZE = 10\n",
    "NGEN = 500            # počet generací\n",
    "CXPB = 0.7           # pravděpodobnost crossoveru na páru\n",
    "MUTPB = 0.2         # pravděpodobnost mutace jedince\n",
    "\n",
    "def evaluate(individual, population):\n",
    "#Jestli me zradil minule, zradim ho ted\n",
    "#Pokud me nezradil, take ho nezradim\n",
    "#Sem tam ho proste zradim i kdyz me nezradil napriklad s sanci 10%\n",
    "#Ve funkci evaluate vezmu individuala a necham ho hrat se vsema ostatnima\n",
    "#Jeste funkce ktera prelozi 0 a 1 do funnkce play \n",
    "#Evaluate ted bude hrat treba sama se sebou a s kazdim dalsim v populaci\n",
    "    if len(my_history) == 0:\n",
    "        return 0\n",
    "    if(my_history == 0 and other_history == 0):\n",
    "        return individual[0]\n",
    "    if(my_history == 0 and other_history == 1):\n",
    "        return individual[1]\n",
    "    if(my_history == 1 and other_history == 0):\n",
    "        return individual[2]\n",
    "    if(my_history == 1 and other_history == 1):\n",
    "        return individual[3]\n",
    "    \n",
    "    \n",
    "def fitness():\n",
    "\n",
    "    creator.create(\"FitnessMax\", base.Fitness, weights=(-1,))\n",
    "    creator.create(\"Individual\", list, fitness=creator.FitnessMax)\n",
    "\n",
    "    toolbox = base.Toolbox()\n",
    "    toolbox.register(\"attr_float\", random.randint, 0, 1)#naplni mi toolbox 0 a 1\n",
    "    toolbox.register(\"individual\", tools.initRepeat, creator.Individual,\n",
    "                    toolbox.attr_float, n=IND_SIZE)\n",
    "    toolbox.register(\"population\", tools.initRepeat, list, toolbox.individual) \n",
    "    # init repeat opakuje dle parametru za ni, tedy dela list individii dle zakladni inicializace individia\n",
    "    pop = toolbox.population(n=POP_SIZE)\n",
    "\n",
    "    # values = evaluate(ind1, pop)\n",
    "\n",
    "    # toolbox.register(\"population\", tools.initRepeat, list, toolbox.individual) \n",
    "    toolbox.register(\"evaluate\", evaluate, population = pop)\n",
    "    toolbox.register(\"mate\", tools.cxOnePoint)\n",
    "    toolbox.register(\"mutate\", tools.mutUniformInt, low=0, up=1, indpb=0.05)#pravdepodobnost jestli zmutuji jednotlivy bit\n",
    "    toolbox.register(\"select\", tools.selTournament, tournsize=3)\n",
    "\n",
    "    s = tools.Statistics(key=lambda ind: ind.fitness.values)\n",
    "    s.register(\"mean\", np.mean)\n",
    "    s.register(\"max\", np.max)\n",
    "\n",
    "\n",
    "    hof = tools.HallOfFame(1)  # pamatuje si 1 nejlepšího jedince za historii evoluce (i když zanikne)\n",
    "\n",
    "\n",
    "    finalpop, logbook = algorithms.eaSimple(pop, toolbox, cxpb=CXPB, mutpb=MUTPB, ngen=NGEN, stats=s, halloffame=hof)\n",
    "\n",
    "\n",
    "    return(hof[0])\n",
    "fitness()\n"
   ]
  },
  {
   "cell_type": "code",
   "execution_count": 355,
   "id": "d82c971b",
   "metadata": {},
   "outputs": [],
   "source": [
    "#Co delat pri prvnim kroku co zahrat? kdyz jsme oba [] []\n"
   ]
  },
  {
   "cell_type": "markdown",
   "id": "64dad94d",
   "metadata": {},
   "source": [
    "## Moje funkce"
   ]
  },
  {
   "cell_type": "code",
   "execution_count": 356,
   "id": "8a10d0b3",
   "metadata": {},
   "outputs": [],
   "source": [
    "# vlastní funkce zrada(moje_historie_tahu, druheho_historie_tahu)\n",
    "# zadrátovaná dle "
   ]
  },
  {
   "cell_type": "code",
   "execution_count": 357,
   "id": "86783d39",
   "metadata": {},
   "outputs": [
    {
     "ename": "SyntaxError",
     "evalue": "invalid syntax (3112972732.py, line 9)",
     "output_type": "error",
     "traceback": [
      "\u001b[1;36m  File \u001b[1;32m\"C:\\Users\\KoplD\\AppData\\Local\\Temp\\ipykernel_23316\\3112972732.py\"\u001b[1;36m, line \u001b[1;32m9\u001b[0m\n\u001b[1;33m    if(my_history )\u001b[0m\n\u001b[1;37m                   ^\u001b[0m\n\u001b[1;31mSyntaxError\u001b[0m\u001b[1;31m:\u001b[0m invalid syntax\n"
     ]
    }
   ],
   "source": [
    "def betray_David_Kopl(my_history, other_history):\n",
    "    individual = [0,0,0,0]\n",
    "#Jestli me zradil minule, zradim ho ted\n",
    "#Pokud me nezradil, take ho nezradim\n",
    "#Sem tam ho proste zradim i kdyz me nezradil napriklad s sanci 10%\n",
    "    if len(my_history) == 0:\n",
    "        return 0\n",
    "    \n",
    "    if(my_history == 0 and other_history == 0):\n",
    "        return individual[0]\n",
    "    if(my_history == 0 and other_history == 1):\n",
    "        return individual[1]\n",
    "    if(my_history == 1 and other_history == 0):\n",
    "        return individual[2]\n",
    "    if(my_history == 1 and other_history == 1):\n",
    "        return individual[3]\n"
   ]
  },
  {
   "cell_type": "markdown",
   "id": "b0198075",
   "metadata": {},
   "source": [
    "## Turnaj"
   ]
  },
  {
   "cell_type": "code",
   "execution_count": null,
   "id": "ec8bd97b",
   "metadata": {},
   "outputs": [],
   "source": []
  },
  {
   "cell_type": "code",
   "execution_count": null,
   "id": "48b45c4c",
   "metadata": {},
   "outputs": [],
   "source": [
    "\n",
    "        \n",
    "# seznam funkci o testování\n",
    "ucastnici = [betray_David_Kopl, random_answer]\n",
    "\n",
    "# funkce se mohou v seznamu i opakovat \n",
    "#ucastnici = [always_cooperate, always_cooperate, random_answer, random_answer, random_answer]\n",
    "\n",
    "\n",
    "\n",
    "STEPSNUM = 20\n",
    "\n",
    "\n",
    "l = len(ucastnici)\n",
    "skores = [0 for i in range(l)]\n",
    "\n",
    "print(\"=========================================\")\n",
    "print(\"Turnaj\")\n",
    "print(\"hra délky:\", STEPSNUM)\n",
    "print(\"-----------------------------------------\")\n",
    "\n",
    "\n",
    "for i in range(l):\n",
    "    for j in range(i+1, l):\n",
    "        f1 = ucastnici[i]\n",
    "        f2 = ucastnici[j]\n",
    "        skore1, skore2 = play(betray_David_Kopl, random_answer, STEPSNUM)\n",
    "        print(f1.__name__, \"x\", f2.__name__, \" \", skore1, \":\", skore2)\n",
    "        skores[i] += skore1\n",
    "        skores[j] += skore2\n",
    "        \n",
    "\n",
    "print(\"=========================================\")\n",
    "print(\"= Výsledné pořadí\")\n",
    "print(\"-----------------------------------------\")\n",
    "\n",
    "\n",
    "# setrideni indexu vysledku\n",
    "index = sorted(range(l), key=lambda k: skores[k])\n",
    "\n",
    "poradi = 1\n",
    "for i in index:\n",
    "    f = ucastnici[i]\n",
    "    print(poradi, \".\", f.__name__, \":\", skores[i])\n",
    "    poradi += 1\n",
    "        \n",
    "        "
   ]
  },
  {
   "cell_type": "code",
   "execution_count": null,
   "id": "a0834931",
   "metadata": {},
   "outputs": [],
   "source": []
  },
  {
   "cell_type": "code",
   "execution_count": null,
   "id": "07fc27cb",
   "metadata": {},
   "outputs": [],
   "source": []
  }
 ],
 "metadata": {
  "kernelspec": {
   "display_name": "Python 3 (ipykernel)",
   "language": "python",
   "name": "python3"
  },
  "language_info": {
   "codemirror_mode": {
    "name": "ipython",
    "version": 3
   },
   "file_extension": ".py",
   "mimetype": "text/x-python",
   "name": "python",
   "nbconvert_exporter": "python",
   "pygments_lexer": "ipython3",
   "version": "3.9.13"
  }
 },
 "nbformat": 4,
 "nbformat_minor": 5
}
