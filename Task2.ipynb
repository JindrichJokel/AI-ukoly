{
 "cells": [
  {
   "cell_type": "markdown",
   "id": "a14b88c1",
   "metadata": {},
   "source": [
    "### Vygenerovani pole řádi NxN s random hodnotami v column 0-2"
   ]
  },
  {
   "cell_type": "code",
   "execution_count": 1,
   "id": "5afe85b9",
   "metadata": {},
   "outputs": [],
   "source": [
    "import random\n",
    "import matplotlib.pyplot as plt\n",
    "import matplotlib.colors as clrs\n",
    "import numpy as np\n",
    "from IPython.display import clear_output\n",
    "\n",
    "field = []\n",
    "index = 20\n",
    "def createField(n, array):\n",
    "\n",
    "    emptySum = 0\n",
    "    for i in range(n):\n",
    "        column = []\n",
    "        for j in range(n):\n",
    "            randomNumber = random.random()#0-1 0.5 0.38 ...\n",
    "            if randomNumber < 0.40:\n",
    "                column.append(1)\n",
    "            elif randomNumber >= 0.40 and randomNumber <= 0.8:\n",
    "                column.append(2)\n",
    "            else:\n",
    "                column.append(0)\n",
    "                emptySum += 1\n",
    "        array.append(column)\n",
    "    return emptySum\n",
    "\n",
    "#Zavolani funkce\n",
    "emptySum = createField(index,field)  # uložení vrácené hodnoty do proměnné emptySum\n",
    "\n",
    "#Vypsani hodnot v poli\n",
    "#field\n",
    "\n"
   ]
  },
  {
   "cell_type": "markdown",
   "id": "752dd1ed",
   "metadata": {},
   "source": [
    "##### Vyzualizace vsech nul + pocet techto nul"
   ]
  },
  {
   "cell_type": "code",
   "execution_count": 2,
   "id": "a795e67c",
   "metadata": {},
   "outputs": [
    {
     "name": "stdout",
     "output_type": "stream",
     "text": [
      "Suma všech nul je:  93\n"
     ]
    }
   ],
   "source": [
    "newArray = []\n",
    "createField(index,newArray)\n",
    "def findEmptySpot(field):\n",
    "    for i in range(len(field)):\n",
    "        for j in range(len(field)):\n",
    "            if(field[i][j] == 0):\n",
    "                newArray[i][j] = 0\n",
    "            else:\n",
    "                newArray[i][j] = \"\"\n",
    "\n",
    "findEmptySpot(field)\n",
    "print(\"Suma všech nul je: \",emptySum)\n",
    "\n",
    "\n",
    "\n",
    "\n",
    "def emptySpot(field):\n",
    "    empty = []\n",
    "    for i in range(len(field)):\n",
    "        for j in range(len(field)):\n",
    "            if field[i][j] == 0:\n",
    "                empty.append([i, j])\n",
    "    return empty\n",
    "#newArray                "
   ]
  },
  {
   "cell_type": "markdown",
   "id": "63e3aea9",
   "metadata": {},
   "source": [
    "## Chellingeruv Algoritmus"
   ]
  },
  {
   "cell_type": "raw",
   "id": "f2413972",
   "metadata": {},
   "source": [
    "-Prvek k nemu najit hloubku 2 od nej do vsech stran a urcit spokojenost\n",
    "-Projizdeni celeho 2D pole nahodne vybrani jednoho nespokojeneho agenta premysteni do prazdneho mista\n",
    "\n",
    "#Projit prvek do hloubky 2\n",
    "def rating(field, index):\n",
    "    i, j = index\n",
    "    numberOne = 0\n",
    "    numberTwo = 0\n",
    "    numberZero = 0\n",
    "    for i in range(-2,3):\n",
    "        if field[i<0]:\n",
    "            i = (i % len(field[i]))\n",
    "        for j in range(-2,3):\n",
    "            if field[j<0]:\n",
    "                j = (j % len(field[j]))\n",
    "           # print(field[i][j])    \n",
    "            if(field[i][j] == 1):\n",
    "                numberOne += 1\n",
    "            elif(field[i][j] == 2):\n",
    "                numberTwo += 1\n",
    "            else:\n",
    "                numberZero += 1            \n",
    "            \n",
    "    return numberOne, numberTwo, numberZero\n",
    "\n",
    "# příklad použití\n",
    "numberOne, numberTwo, numberZero = rating(field, (1,1))\n",
    "print(\"Jedniček:\", numberOne,\" Dvojek:\", numberTwo,\"Nul:\",  numberZero)\n",
    "    \n",
    "#print(numberOne, numberTwo, numberZero)"
   ]
  },
  {
   "cell_type": "code",
   "execution_count": 3,
   "id": "17f1223a",
   "metadata": {},
   "outputs": [],
   "source": [
    "def rating(field, row_index, col_index):\n",
    "    numberOne = 0\n",
    "    numberTwo = 0\n",
    "    numberZero = 0\n",
    "\n",
    "    for i in range(-2, 3):\n",
    "        for j in range(-2, 3):\n",
    "            row = (row_index + i) % len(field)\n",
    "            col = (col_index + j) % len(field[0])\n",
    "            value = field[row][col]\n",
    "            if(value == 1):\n",
    "                numberOne += 1\n",
    "            elif(value == 2):\n",
    "                numberTwo += 1\n",
    "            else:\n",
    "                numberZero += 1     \n",
    "    if field[row_index][col_index] == 1:\n",
    "        return numberOne / (numberOne + numberTwo)\n",
    "    elif field[row_index][col_index] == 2:\n",
    "        return numberTwo / (numberOne + numberTwo)\n",
    "    else:#Asi zbytecne, protoze to nemusime urcovat bruh nutnost smazat, ovsem rozmyslet radsi xd\n",
    "        print(\"Something went wrong\")"
   ]
  },
  {
   "cell_type": "code",
   "execution_count": 4,
   "id": "e94b785b",
   "metadata": {},
   "outputs": [],
   "source": [
    "def schellinger(tolerancy):\n",
    "    unhappy = []\n",
    "    empty = emptySpot(field)#Najde vsechny mista kde je nula\n",
    "    for i in range(len(field)):\n",
    "        for j in range(len(field)):\n",
    "            if field[i][j] != 0:\n",
    "                if rating(field, i, j) < (tolerancy/100):#agent je nestastny\n",
    "                    unhappy.append([i, j]) \n",
    "    return unhappy, empty"
   ]
  },
  {
   "cell_type": "code",
   "execution_count": 5,
   "id": "58d9bb09",
   "metadata": {},
   "outputs": [],
   "source": [
    "def print_progress(grid, unhappy_count):\n",
    "    cmap = clrs.ListedColormap([\"white\", \"red\", \"black\"])    \n",
    "    clear_output(wait=True)\n",
    "    print(\"unhappy count:   {:,}\".format(unhappy_count).replace(',', ' '))\n",
    "    plt.imshow(grid, cmap)\n",
    "    plt.show()"
   ]
  },
  {
   "cell_type": "code",
   "execution_count": 6,
   "id": "854e0380",
   "metadata": {},
   "outputs": [
    {
     "name": "stdout",
     "output_type": "stream",
     "text": [
      "unhappy count:   0\n"
     ]
    },
    {
     "data": {
      "image/png": "[encoded data removed]",
      "text/plain": [
       "<Figure size 640x480 with 1 Axes>"
      ]
     },
     "metadata": {},
     "output_type": "display_data"
    },
    {
     "data": {
      "text/plain": [
       "[<matplotlib.lines.Line2D at 0x1e0a121f0a0>]"
      ]
     },
     "execution_count": 6,
     "metadata": {},
     "output_type": "execute_result"
    },
    {
     "data": {
      "text/plain": [
       "<Figure size 640x480 with 0 Axes>"
      ]
     },
     "metadata": {},
     "output_type": "display_data"
    },
    {
     "data": {
      "image/png": "[encoded data removed]",
      "text/plain": [
       "<Figure size 640x480 with 1 Axes>"
      ]
     },
     "metadata": {},
     "output_type": "display_data"
    }
   ],
   "source": [
    "unhappy = True\n",
    "happy = []\n",
    "while unhappy:\n",
    "    unhappy, empty = schellinger(60)\n",
    "    if len(unhappy)==0:\n",
    "        break\n",
    "    \n",
    "    happy.append(index*index - len(empty) - len(unhappy))\n",
    "    randomIndexUnhappy = random.randint(0,len(unhappy)-1)\n",
    "    randomIndexEmpty = random.randint(0,len(empty)-1)\n",
    "    #print(randomIndexUnhappy,randomIndexEmpty)\n",
    "    #print(\"Empty\", empty)\n",
    "    field[empty[randomIndexEmpty][0]][empty[randomIndexEmpty][1]] = field[unhappy[randomIndexUnhappy][0]][unhappy[randomIndexUnhappy][1]]\n",
    "    field[unhappy[randomIndexUnhappy][0]][unhappy[randomIndexUnhappy][1]] = 0\n",
    "    #prepsat agenta na nahodne prazdne pole\n",
    "    #prepsat dane nahodne prazdne pole na 0\n",
    "    print_progress(field, len(unhappy)-1)\n",
    "fig = plt.figure()\n",
    "fig, ax = plt.subplots()\n",
    "ax.plot(happy)"
   ]
  }
 ],
 "metadata": {
  "kernelspec": {
   "display_name": "Python 3 (ipykernel)",
   "language": "python",
   "name": "python3"
  },
  "language_info": {
   "codemirror_mode": {
    "name": "ipython",
    "version": 3
   },
   "file_extension": ".py",
   "mimetype": "text/x-python",
   "name": "python",
   "nbconvert_exporter": "python",
   "pygments_lexer": "ipython3",
   "version": "3.9.13"
  }
 },
 "nbformat": 4,
 "nbformat_minor": 5
}
